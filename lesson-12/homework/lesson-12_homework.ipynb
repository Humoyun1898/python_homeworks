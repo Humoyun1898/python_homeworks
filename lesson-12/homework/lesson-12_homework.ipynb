{
 "cells": [
  {
   "cell_type": "markdown",
   "id": "f87a369b",
   "metadata": {},
   "source": [
    "1. Write a Python program that checks whether a given range of numbers contains prime numbers. Divide the range among multiple threads to parallelize the prime checking process. Each thread should be responsible for checking a subset of the range, and the main program should print the list of prime numbers found."
   ]
  },
  {
   "cell_type": "code",
   "execution_count": null,
   "id": "7cbd3864",
   "metadata": {},
   "outputs": [],
   "source": [
    "import threading \n",
    "\n",
    "def is_prime(n):\n",
    "    prime = True\n",
    "    if n > 1:\n",
    "        for x in range(2,int(n**0.5) + 1):\n",
    "            if n % x == 0:\n",
    "                prime = False\n",
    "                break\n",
    "    else:\n",
    "        prime = False\n",
    "\n",
    "    if prime == True:\n",
    "        return True\n",
    "    else:\n",
    "        return False\n",
    "\n",
    "def primes_in_range(start,end):\n",
    "    for z in range(start, end + 1):\n",
    "        if is_prime(z):\n",
    "            print(num, end =' ')\n",
    "\n",
    "start = int(input('Enter start of range: '))\n",
    "end = int(input('Enter end of range: '))\n",
    "\n",
    "middle = (start+end)//2\n",
    "\n",
    "t1 = threading.Thread(target = primes_in_range, args = (start, middle))\n",
    "t2 = threading.Thread(target = primes_in_range, args = (middle + 1, end))\n",
    "\n",
    "t1.start()\n",
    "t2.start()\n",
    "\n"
   ]
  },
  {
   "cell_type": "markdown",
   "id": "38e9f93f",
   "metadata": {},
   "source": [
    "2.Write a program that reads a large text file containing lines of text. Implement a threaded solution to count the occurrence of each word in the file. Each thread should process a portion of the file, and the main program should display a summary of word occurrences across all threads."
   ]
  },
  {
   "cell_type": "code",
   "execution_count": null,
   "id": "3e98e517",
   "metadata": {},
   "outputs": [],
   "source": [
    "import threading\n",
    "\n",
    "def count_words(lines):\n",
    "    word_dict = {}\n",
    "    for line in lines:\n",
    "        words = line.strip().lower().split()\n",
    "        for word in words:\n",
    "            word = word.strip('.,!?()[]')\n",
    "            if word in word_dict:\n",
    "                word_dict[word] += 1\n",
    "            else:\n",
    "                word_dict[word] = 1\n",
    "    return word_dict\n",
    "\n",
    "file_path = input(\"Enter the file path: \")\n",
    "with open(file_path, 'r') as file:\n",
    "    lines = file.readlines()\n",
    "num_threads = 4\n"
   ]
  }
 ],
 "metadata": {
  "kernelspec": {
   "display_name": "Python 3",
   "language": "python",
   "name": "python3"
  },
  "language_info": {
   "name": "python",
   "version": "3.13.3"
  }
 },
 "nbformat": 4,
 "nbformat_minor": 5
}
