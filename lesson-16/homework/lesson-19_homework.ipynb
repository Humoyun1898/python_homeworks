{
 "cells": [
  {
   "cell_type": "markdown",
   "id": "18ef588b",
   "metadata": {},
   "source": [
    "1. Write a NumPy program to convert a list of numeric values into a one-dimensional NumPy array.\n",
    "\n",
    "Expected Output:\n",
    "\n",
    "Original List: [12.23, 13.32, 100, 36.32] One-dimensional NumPy array: [ 12.23 13.32 100. 36.32]"
   ]
  },
  {
   "cell_type": "code",
   "execution_count": null,
   "id": "33aadc0b",
   "metadata": {},
   "outputs": [
    {
     "data": {
      "text/plain": [
       "array([ 12.23,  13.32, 100.  ,  36.32])"
      ]
     },
     "execution_count": 1,
     "metadata": {},
     "output_type": "execute_result"
    }
   ],
   "source": [
    "import numpy as np\n",
    "\n",
    "list = [12.23, 13.32, 100, 36.32]\n",
    "my_list = np.array(list)\n",
    "my_list\n"
   ]
  },
  {
   "cell_type": "markdown",
   "id": "919a46fe",
   "metadata": {},
   "source": [
    "2. Write a NumPy program to create a 3x3 matrix with values ranging from 2 to 10.\n",
    "\n",
    "Expected Output:\n",
    "\n",
    "[[ 2 3 4] [ 5 6 7] [ 8 9 10]]"
   ]
  },
  {
   "cell_type": "code",
   "execution_count": 6,
   "id": "18523eea",
   "metadata": {},
   "outputs": [
    {
     "data": {
      "text/plain": [
       "array([[ 2,  3,  4],\n",
       "       [ 5,  6,  7],\n",
       "       [ 8,  9, 10]])"
      ]
     },
     "execution_count": 6,
     "metadata": {},
     "output_type": "execute_result"
    }
   ],
   "source": [
    "random_array = np.arange(2,11).reshape(3,3)\n",
    "random_array"
   ]
  },
  {
   "cell_type": "markdown",
   "id": "063789e4",
   "metadata": {},
   "source": [
    "Write a NumPy program to create a null vector of size 10 and update the sixth value to 11.\n",
    "\n",
    "[ 0. 0. 0. 0. 0. 0. 0. 0. 0. 0.]\n",
    "\n",
    "Update sixth value to 11 [ 0. 0. 0. 0. 0. 0. 11. 0. 0. 0.]"
   ]
  },
  {
   "cell_type": "code",
   "execution_count": 10,
   "id": "5d9226a1",
   "metadata": {},
   "outputs": [
    {
     "data": {
      "text/plain": [
       "array([ 0.,  0.,  0.,  0.,  0., 11.,  0.,  0.,  0.,  0.])"
      ]
     },
     "execution_count": 10,
     "metadata": {},
     "output_type": "execute_result"
    }
   ],
   "source": [
    "arr = np.zeros(10)\n",
    "arr[5] = 11\n",
    "arr"
   ]
  },
  {
   "cell_type": "markdown",
   "id": "c963de5d",
   "metadata": {},
   "source": [
    "4.Write a NumPy program to create an array with values ranging from 12 to 38.\n",
    "\n",
    "Expected Output:\n",
    "\n",
    "[12 13 14 15 16 17 18 19 20 21 22 23 24 25 26 27 28 29 30 31 32 33 34 35 36 37]"
   ]
  },
  {
   "cell_type": "code",
   "execution_count": 12,
   "id": "24e4ce77",
   "metadata": {},
   "outputs": [
    {
     "data": {
      "text/plain": [
       "array([12, 13, 14, 15, 16, 17, 18, 19, 20, 21, 22, 23, 24, 25, 26, 27, 28,\n",
       "       29, 30, 31, 32, 33, 34, 35, 36, 37])"
      ]
     },
     "execution_count": 12,
     "metadata": {},
     "output_type": "execute_result"
    }
   ],
   "source": [
    "new_array = np.arange(12,38)\n",
    "new_array"
   ]
  },
  {
   "cell_type": "markdown",
   "id": "7ec3a81e",
   "metadata": {},
   "source": [
    "Write a NumPy program to convert an array to a floating type.\n",
    "\n",
    "Sample output:\n",
    "\n",
    "Original array [1, 2, 3, 4]"
   ]
  },
  {
   "cell_type": "code",
   "execution_count": null,
   "id": "8c932228",
   "metadata": {},
   "outputs": [
    {
     "data": {
      "text/plain": [
       "dtype('float64')"
      ]
     },
     "execution_count": 16,
     "metadata": {},
     "output_type": "execute_result"
    }
   ],
   "source": [
    "list = [1,2,3,4]\n",
    "arr = np.array(list)\n",
    "new_arr = arr.astype(float)\n"
   ]
  },
  {
   "cell_type": "markdown",
   "id": "0062ae54",
   "metadata": {},
   "source": [
    "Write a NumPy program to convert Centigrade degrees into Fahrenheit degrees. Centigrade values are stored in a NumPy array.\n",
    "\n",
    "Sample Array [0, 12, 45.21, 34, 99.91] [-17.78, -11.11, 7.34, 1.11, 37.73, 0. ]\n",
    "\n",
    "Expected Output:\n",
    "\n",
    "Values in Fahrenheit degrees: [ 0. 12. 45.21 34. 99.91 32. ]\n",
    "\n",
    "Values in Centigrade degrees: [-17.78 -11.11 7.34 1.11 37.73 0. ]\n",
    "\n",
    "Values in Centigrade degrees: [-17.78 -11.11 7.34 1.11 37.73 0. ]\n",
    "\n",
    "Values in Fahrenheit degrees: [-0. 12. 45.21 34. 99.91 32. ]"
   ]
  },
  {
   "cell_type": "code",
   "execution_count": 19,
   "id": "c351d525",
   "metadata": {},
   "outputs": [
    {
     "data": {
      "text/plain": [
       "array([ 32.   ,  53.6  , 113.378,  93.2  , 211.838])"
      ]
     },
     "execution_count": 19,
     "metadata": {},
     "output_type": "execute_result"
    }
   ],
   "source": [
    "celsius_arr = np.array([0, 12, 45.21, 34, 99.91])\n",
    "faranheit_arr = celsius_arr * 9/5 + 32\n",
    "faranheit_arr\n"
   ]
  },
  {
   "cell_type": "markdown",
   "id": "0a1aaece",
   "metadata": {},
   "source": [
    "Write a NumPy program to append values to the end of an array.\n",
    "\n",
    "Expected Output:\n",
    "\n",
    "Original array: [10, 20, 30]\n",
    "\n",
    "After append values to the end of the array: [10 20 30 40 50 60 70 80 90]"
   ]
  },
  {
   "cell_type": "code",
   "execution_count": 21,
   "id": "f72555e8",
   "metadata": {},
   "outputs": [
    {
     "data": {
      "text/plain": [
       "array([10, 20, 30, 40, 50, 60, 70, 80, 90])"
      ]
     },
     "execution_count": 21,
     "metadata": {},
     "output_type": "execute_result"
    }
   ],
   "source": [
    "original_array = np.array([10,20,30])\n",
    "new_values = [40,50,60,70,80,90]\n",
    "appended_array = np.append(original_array,new_values)\n",
    "appended_array"
   ]
  },
  {
   "cell_type": "markdown",
   "id": "3ce88640",
   "metadata": {},
   "source": [
    "8.Create a random NumPy array of 10 elements and calculate the mean, median, and standard deviation of the array."
   ]
  },
  {
   "cell_type": "code",
   "execution_count": 31,
   "id": "64f5f052",
   "metadata": {},
   "outputs": [],
   "source": [
    "random = np.random.rand(10)\n",
    "mean = np.mean(random)\n",
    "median = np.median(random)\n",
    "std = np.std(random)    "
   ]
  },
  {
   "cell_type": "markdown",
   "id": "427f9522",
   "metadata": {},
   "source": [
    "9.Create a 10x10 array with random values and find the minimum and maximum values."
   ]
  },
  {
   "cell_type": "code",
   "execution_count": 40,
   "id": "97bf8e73",
   "metadata": {},
   "outputs": [],
   "source": [
    "array = np.random.rand(10,10)\n",
    "minimum = np.min(array)\n",
    "maximum = np.max(array)"
   ]
  },
  {
   "cell_type": "markdown",
   "id": "9b0e87f0",
   "metadata": {},
   "source": [
    "Create a 3x3x3 array with random values.\n",
    "\n"
   ]
  },
  {
   "cell_type": "code",
   "execution_count": 41,
   "id": "7815597b",
   "metadata": {},
   "outputs": [
    {
     "data": {
      "text/plain": [
       "array([[[0.08788634, 0.44783594, 0.46600288],\n",
       "        [0.57070253, 0.42975711, 0.43566654],\n",
       "        [0.76950737, 0.0564556 , 0.40130805]],\n",
       "\n",
       "       [[0.4669456 , 0.57524396, 0.4296825 ],\n",
       "        [0.94150948, 0.05060773, 0.32016587],\n",
       "        [0.82769879, 0.74859659, 0.05918966]],\n",
       "\n",
       "       [[0.04813905, 0.71077128, 0.76815712],\n",
       "        [0.49711656, 0.62593112, 0.42328177],\n",
       "        [0.65152878, 0.68832438, 0.44061509]]])"
      ]
     },
     "execution_count": 41,
     "metadata": {},
     "output_type": "execute_result"
    }
   ],
   "source": [
    "array = np.random.rand(3,3,3)\n",
    "array"
   ]
  }
 ],
 "metadata": {
  "kernelspec": {
   "display_name": "Python 3",
   "language": "python",
   "name": "python3"
  },
  "language_info": {
   "codemirror_mode": {
    "name": "ipython",
    "version": 3
   },
   "file_extension": ".py",
   "mimetype": "text/x-python",
   "name": "python",
   "nbconvert_exporter": "python",
   "pygments_lexer": "ipython3",
   "version": "3.13.3"
  }
 },
 "nbformat": 4,
 "nbformat_minor": 5
}
