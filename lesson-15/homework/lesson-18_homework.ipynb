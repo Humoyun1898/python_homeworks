{
 "cells": [
  {
   "cell_type": "markdown",
   "id": "86ef760d",
   "metadata": {},
   "source": [
    "1. Create a new database with a table named Roster that has three fields: Name, Species, and Age. The Name and Species columns should be text fields, and the Age column should be an integer field."
   ]
  },
  {
   "cell_type": "code",
   "execution_count": 1,
   "id": "6cbc0d65",
   "metadata": {},
   "outputs": [],
   "source": [
    "import sqlite3\n",
    "\n",
    "connection = sqlite3.connect(\"sample.db\")\n",
    "cursor = connection.cursor()\n",
    "sql_query= \"\"\" create table Roster (Name nvarchar (100), Species nvarchar (100), age int)\"\"\"\n",
    "\n",
    "cursor.execute(sql_query)\n",
    "connection.commit()\n",
    "connection.close()"
   ]
  },
  {
   "cell_type": "markdown",
   "id": "b5706a21",
   "metadata": {},
   "source": [
    "2.Populate your new table with the following values:"
   ]
  },
  {
   "cell_type": "code",
   "execution_count": 2,
   "id": "7865e285",
   "metadata": {},
   "outputs": [],
   "source": [
    "with sqlite3.connect(\"sample.db\") as connection:\n",
    "    insert_query = \"\"\"insert into Roster (Name,Species,Age) values ('Benjamin Cisco','Human',40),('Jadzia Dask','Trill',300),('Kira Nyres','Bajoran',29)\"\"\"\n",
    "    cursor=connection.cursor()\n",
    "    cursor.execute(insert_query)"
   ]
  },
  {
   "cell_type": "markdown",
   "id": "2b2724fc",
   "metadata": {},
   "source": [
    "3.Update the Name of Jadzia Dax to be Ezri Dax"
   ]
  },
  {
   "cell_type": "code",
   "execution_count": 4,
   "id": "b1cfa439",
   "metadata": {},
   "outputs": [],
   "source": [
    "with sqlite3.connect(\"sample.db\") as connection:\n",
    "    update_query = \"\"\"update Roster set name = 'Ezri Dax' where name = 'Jadzia Dask'\"\"\"\n",
    "    cursor = connection.cursor()\n",
    "    cursor.execute(update_query)\n",
    "    connection.commit()"
   ]
  },
  {
   "cell_type": "markdown",
   "id": "de34fc27",
   "metadata": {},
   "source": [
    "4.Display the Name and Age of everyone in the table classified as Bajoran"
   ]
  },
  {
   "cell_type": "code",
   "execution_count": 5,
   "id": "b97bdc40",
   "metadata": {},
   "outputs": [],
   "source": [
    "with sqlite3.connect(\"sample.db\") as connection:\n",
    "    display_query = \"\"\"select Name, Age from Roster where Species = 'Bajoran'\"\"\"\n",
    "    cursor = connection.cursor()\n",
    "    cursor.execute(display_query)\n",
    "    connection.commit()"
   ]
  }
 ],
 "metadata": {
  "kernelspec": {
   "display_name": "Python 3",
   "language": "python",
   "name": "python3"
  },
  "language_info": {
   "codemirror_mode": {
    "name": "ipython",
    "version": 3
   },
   "file_extension": ".py",
   "mimetype": "text/x-python",
   "name": "python",
   "nbconvert_exporter": "python",
   "pygments_lexer": "ipython3",
   "version": "3.13.3"
  }
 },
 "nbformat": 4,
 "nbformat_minor": 5
}
